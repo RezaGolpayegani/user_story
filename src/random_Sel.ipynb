{
 "cells": [
  {
   "cell_type": "code",
   "execution_count": null,
   "metadata": {},
   "outputs": [
    {
     "ename": "",
     "evalue": "",
     "output_type": "error",
     "traceback": [
      "\u001b[1;31mRunning cells with '/bin/python3' requires the ipykernel package.\n",
      "\u001b[1;31mRun the following command to install 'ipykernel' into the Python environment. \n",
      "\u001b[1;31mCommand: '/bin/python3 -m pip install ipykernel -U --user --force-reinstall'"
     ]
    }
   ],
   "source": [
    "import os\n",
    "import random\n",
    "\n",
    "def randomly_select_lines(folder_path, num_lines):\n",
    "    selected_lines = []\n",
    "\n",
    "    # Get a list of all text files in the specified folder\n",
    "    txt_files = [file for file in os.listdir(folder_path) if file.endswith(\".txt\")]\n",
    "\n",
    "    # Check if there are any text files in the folder\n",
    "    if not txt_files:\n",
    "        print(\"No text files found in the specified folder.\")\n",
    "        return selected_lines\n",
    "\n",
    "    # Iterate through each text file\n",
    "    for txt_file in txt_files:\n",
    "        file_path = os.path.join(folder_path, txt_file)\n",
    "\n",
    "        # Read the lines from the text file\n",
    "        with open(file_path, 'r', encoding='utf-8') as file:\n",
    "            lines = file.readlines()\n",
    "\n",
    "            # Randomly select lines from the file\n",
    "            selected_lines.extend(random.sample(lines, min(num_lines, len(lines))))\n",
    "\n",
    "    return selected_lines\n",
    "\n",
    "# Specify the folder path and the number of lines to randomly select\n",
    "folder_path = '/mnt/d/github/user_story/7zbk8zsd8y-1'\n",
    "num_lines_to_select = 100\n",
    "\n",
    "# Call the function to get the randomly selected lines\n",
    "random_lines = randomly_select_lines(folder_path, num_lines_to_select)\n",
    "\n",
    "# Print the randomly selected lines\n",
    "for line in random_lines:\n",
    "    print(line.strip())\n"
   ]
  },
  {
   "cell_type": "code",
   "execution_count": null,
   "metadata": {},
   "outputs": [],
   "source": []
  }
 ],
 "metadata": {
  "kernelspec": {
   "display_name": "Python 3",
   "language": "python",
   "name": "python3"
  },
  "language_info": {
   "name": "python",
   "version": "3.10.12"
  }
 },
 "nbformat": 4,
 "nbformat_minor": 2
}
